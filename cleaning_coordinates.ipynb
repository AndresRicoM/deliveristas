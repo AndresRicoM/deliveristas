{
 "cells": [
  {
   "cell_type": "markdown",
   "id": "e4595512",
   "metadata": {},
   "source": [
    "# GPS Coordinate Conversion and Cleaning"
   ]
  },
  {
   "cell_type": "code",
   "execution_count": 13,
   "id": "3ec26693",
   "metadata": {},
   "outputs": [],
   "source": [
    "import pandas as pd\n",
    "import numpy as np\n",
    "import matplotlib.pyplot as plt\n",
    "import os\n",
    "import sys\n",
    "from keplergl import KeplerGl\n"
   ]
  },
  {
   "cell_type": "markdown",
   "id": "b66f2175",
   "metadata": {},
   "source": [
    "### Coordinate conversion from DMS to DD"
   ]
  },
  {
   "cell_type": "code",
   "execution_count": 14,
   "id": "109c9207",
   "metadata": {},
   "outputs": [],
   "source": [
    "# Function for converting coordinate arrays from DMS to DD\n",
    "\n",
    "def dms2dd(lat, dir_1, lon, dir_2):\n",
    "    \"\"\"\n",
    "    Convert coordinate arrays from Degree-Minute-Second (DMS) format to Decimal Degree (DD) format.\n",
    "\n",
    "    Parameters:\n",
    "    lat (numpy.ndarray): Array of latitude values in DMS format.\n",
    "    dir_1 (numpy.ndarray): Array of latitude direction values ('N' or 'S').\n",
    "    lon (numpy.ndarray): Array of longitude values in DMS format.\n",
    "    dir_2 (numpy.ndarray): Array of longitude direction values ('E' or 'W').\n",
    "\n",
    "    Returns:\n",
    "    tuple: A tuple containing the converted latitude and longitude arrays in DD format.\n",
    "\n",
    "    Example:\n",
    "    lat = np.array(['40', '41', '42'])\n",
    "    dir_1 = np.array(['N', 'N', 'N'])\n",
    "    lon = np.array(['73', '74', '75'])\n",
    "    dir_2 = np.array(['W', 'W', 'W'])\n",
    "    dms2dd(lat, dir_1, lon, dir_2)  # Output: (array([40.0, 41.0, 42.0]), array([-73.0, -74.0, -75.0]))\n",
    "    \"\"\"\n",
    "    # Convert arrays to strings\n",
    "    lat = lat.astype(str)\n",
    "    lon = lon.astype(str)\n",
    "    for i in range(len(lat)):\n",
    "\n",
    "        if lon[i][2] == '.':  # 2 digit longitude\n",
    "            # Degrees\n",
    "            degrees_lat = lat[i][0:2]\n",
    "            degrees_lon = 0\n",
    "            # Minutes\n",
    "            minutes_lat = lat[i][2:]\n",
    "            minutes_lon = lon[i][0:]\n",
    "\n",
    "        elif lon[i][3] == '.':  # 3 digit longitude\n",
    "            # Degrees\n",
    "            degrees_lat = lat[i][0:2]\n",
    "            degrees_lon = lon[i][0:1]\n",
    "            # Minutes\n",
    "            minutes_lat = lat[i][2:]\n",
    "            minutes_lon = lon[i][1:]\n",
    "\n",
    "        elif lon[i][4] == '.':  # 4 digit longitude\n",
    "            # Degrees\n",
    "            degrees_lat = lat[i][0:2]\n",
    "            degrees_lon = lon[i][0:2]\n",
    "            # Minutes\n",
    "            minutes_lat = lat[i][2:]\n",
    "            minutes_lon = lon[i][2:]\n",
    "\n",
    "        dd_lat_value = float(degrees_lat) + float(minutes_lat) / 60\n",
    "        dd_lon_value = float(degrees_lon) + float(minutes_lon) / 60\n",
    "\n",
    "        # Check direction and apply sign\n",
    "        if dir_1[i] == ' S':\n",
    "            dd_lat_value = dd_lat_value * -1\n",
    "        if dir_2[i] == ' W':\n",
    "            dd_lon_value = dd_lon_value * -1\n",
    "\n",
    "        # Replace values in sample_data\n",
    "        lat[i] = dd_lat_value\n",
    "        lon[i] = dd_lon_value\n",
    "\n",
    "    return lat, lon\n"
   ]
  },
  {
   "cell_type": "markdown",
   "id": "a870c0af",
   "metadata": {},
   "source": [
    "# Clean unreliable GPS coordinates"
   ]
  },
  {
   "cell_type": "code",
   "execution_count": 15,
   "id": "64de0024",
   "metadata": {},
   "outputs": [],
   "source": [
    "def get_low_satellites(sats_arr):\n",
    "    \"\"\"\n",
    "    Returns the indexes of satellites with signal strength less than 3.\n",
    "\n",
    "    Parameters:\n",
    "    sats_arr (numpy.ndarray): An array containing the signal strengths of satellites.\n",
    "\n",
    "    Returns:\n",
    "    numpy.ndarray: An array containing the indexes of satellites with signal strength less than 3.\n",
    "    \"\"\"\n",
    "    # Find the indexes of satellites with signal strength less than 3\n",
    "    indexes = np.where(sats_arr < 3)[0]\n",
    "    \n",
    "    return indexes"
   ]
  },
  {
   "cell_type": "markdown",
   "id": "3a814941",
   "metadata": {},
   "source": [
    "# Main Processing Script"
   ]
  },
  {
   "cell_type": "code",
   "execution_count": 18,
   "id": "746752cb",
   "metadata": {},
   "outputs": [],
   "source": [
    "def clean_gps_data(file_name):\n",
    "    # load file into pandas dataframe called sample_data\n",
    "    gps_data = pd.read_csv('sample_data/' + file_name + '.txt')\n",
    "\n",
    "    #Add keys to the data\n",
    "    gps_data.columns = ['datetime','millis','lat','dir1','lon','dir2','altitude','speed','angle','satellites']\n",
    "\n",
    "    # Convert coordinates to decimal degrees\n",
    "    dd_lat, dd_lon = dms2dd(gps_data['lat'], gps_data['dir1'], gps_data['lon'], gps_data['dir2'])\n",
    "\n",
    "    # Replace values in sample_data\n",
    "    gps_data['lat'] = dd_lat\n",
    "    gps_data['lon'] = dd_lon\n",
    "\n",
    "    # Delete rows with low number of satellites (< 3)\n",
    "    sat_delete_indexes = get_low_satellites(gps_data['satellites'])\n",
    "    gps_data = gps_data.drop(sat_delete_indexes)\n",
    "\n",
    "    # Save sample_data to new csv file\n",
    "    gps_data.to_csv('sample_data/processed_data/' + file_name + '_dd.csv')\n",
    "    print('CSV file saved')"
   ]
  },
  {
   "cell_type": "markdown",
   "id": "c29bfa44",
   "metadata": {},
   "source": [
    "# Clean File"
   ]
  },
  {
   "cell_type": "code",
   "execution_count": 19,
   "id": "f07d7819",
   "metadata": {},
   "outputs": [
    {
     "name": "stdout",
     "output_type": "stream",
     "text": [
      "CSV file saved\n"
     ]
    }
   ],
   "source": [
    "#Input file name\n",
    "clean_gps_data('738')"
   ]
  },
  {
   "cell_type": "markdown",
   "id": "79dd37c5",
   "metadata": {},
   "source": [
    "# Kepler Visualization"
   ]
  },
  {
   "cell_type": "code",
   "execution_count": null,
   "id": "075e8f61",
   "metadata": {},
   "outputs": [
    {
     "name": "stdout",
     "output_type": "stream",
     "text": [
      "User Guide: https://docs.kepler.gl/docs/keplergl-jupyter\n"
     ]
    },
    {
     "name": "stderr",
     "output_type": "stream",
     "text": [
      "/Users/AndresRico/mambaforge/envs/kepler/lib/python3.11/site-packages/IPython/core/formatters.py:367: FormatterWarning: text/html formatter returned invalid type <class 'bytes'> (expected <class 'str'>) for object: KeplerGl(height=500)\n",
      "  warnings.warn(\n"
     ]
    },
    {
     "data": {
      "application/vnd.jupyter.widget-view+json": {
       "model_id": "050affe6dee44f90a07bf8a2c9522c04",
       "version_major": 2,
       "version_minor": 0
      },
      "text/plain": [
       "KeplerGl(height=500)"
      ]
     },
     "execution_count": 18,
     "metadata": {},
     "output_type": "execute_result"
    }
   ],
   "source": [
    "#not working still...\n",
    "#map_1 = KeplerGl(height=500)\n",
    "#map_1\n",
    "\n"
   ]
  }
 ],
 "metadata": {
  "kernelspec": {
   "display_name": "water",
   "language": "python",
   "name": "python3"
  },
  "language_info": {
   "codemirror_mode": {
    "name": "ipython",
    "version": 3
   },
   "file_extension": ".py",
   "mimetype": "text/x-python",
   "name": "python",
   "nbconvert_exporter": "python",
   "pygments_lexer": "ipython3",
   "version": "3.11.6"
  }
 },
 "nbformat": 4,
 "nbformat_minor": 5
}
